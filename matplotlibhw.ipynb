{
 "metadata": {
  "language_info": {
   "codemirror_mode": {
    "name": "ipython",
    "version": 3
   },
   "file_extension": ".py",
   "mimetype": "text/x-python",
   "name": "python",
   "nbconvert_exporter": "python",
   "pygments_lexer": "ipython3",
   "version": 3
  },
  "orig_nbformat": 4
 },
 "nbformat": 4,
 "nbformat_minor": 2,
 "cells": [
  {
   "cell_type": "code",
   "execution_count": null,
   "metadata": {},
   "outputs": [],
   "source": [
    "# Dependencies and Setup\n",
    "%matplotlib inline\n",
    "import matplotlib.pyplot as plt\n",
    "import pandas as pd\n",
    "import numpy as np\n",
    "\n",
    "# Hide warning messages in notebook\n",
    "import warnings\n",
    "warnings.filterwarnings('ignore')\n",
    "\n",
    "# File to Load \n",
    "mouse_drug_data_to_load = \"data/mouse_drug_data.csv\"\n",
    "clinical_trial_data_to_load = \"data/clinicaltrial_data.csv\"\n",
    "\n",
    "# Read the Mouse and Drug Data and the Clinical Trial Data\n",
    "mouse_data = pd.read_csv(mouse_drug_data_to_load)\n",
    "drug_data = pd.read_csv(clinical_trial_data_to_load)\n",
    "\n",
    "# Combine the data into a single dataset\n",
    "combined_df = pd.merge(mouse_data, drug_data, how=\"outer\", on=\"Mouse ID\")\n",
    "\n",
    "# Display the data table for preview\n",
    "combined_df.head()"
   ]
  },
  {
   "cell_type": "code",
   "execution_count": null,
   "metadata": {},
   "outputs": [],
   "source": [
    "# Store the Mean Tumor Volume Data Grouped by Drug and Timepoint \n",
    "drug_treatment_df = combined_df.groupby([\"Drug\", \"Timepoint\"])\n",
    "means_tumor = drug_treatment_df['Tumor Volume (mm3)'].mean().reset_index()\n",
    "\n",
    "# Convert to DataFrame\n",
    "mean_tumor_response = pd.DataFrame(means_tumor)\n",
    "\n",
    "# Preview DataFrame\n",
    "mean_tumor_response.head()"
   ]
  },
  {
   "cell_type": "code",
   "execution_count": null,
   "metadata": {},
   "outputs": [],
   "source": [
    "# Store the Standard Error of Tumor Volumes Grouped by Drug and Timepoint\n",
    "sem_drug_treatment_df = drug_treatment_df['Tumor Volume (mm3)'].sem().reset_index() \n",
    "\n",
    "# Convert to DataFrame\n",
    "sem_tumor_response = pd.DataFrame(sem_drug_treatment_df)\n",
    "\n",
    "# Preview DataFrame\n",
    "sem_tumor_response.head()"
   ]
  },
  {
   "cell_type": "code",
   "execution_count": null,
   "metadata": {},
   "outputs": [],
   "source": [
    "# Minor Data Munging to Re-Format the Data Frames\n",
    "reorganize_tumor_mean_df = pd.pivot_table(mean_tumor_response, index=['Timepoint'], columns=['Drug'])\n",
    "mean_response_per_drug = pd.DataFrame(reorganize_tumor_mean_df['Tumor Volume (mm3)'])\n",
    "\n",
    "# Preview that Reformatting worked\n",
    "mean_response_per_drug.head()"
   ]
  },
  {
   "cell_type": "code",
   "execution_count": null,
   "metadata": {},
   "outputs": [],
   "source": [
    "# re-format SEM DataFrame of mean tumor response\n",
    "sem_reorganize_tumor_df = pd.pivot_table(sem_tumor_response, index=['Timepoint'], columns=['Drug'])\n",
    "sem_response_per_drug = pd.DataFrame(sem_reorganize_tumor_df['Tumor Volume (mm3)'])\n",
    "\n",
    "# Preview that Reformatting worked\n",
    "sem_response_per_drug.head()\n"
   ]
  },
  {
   "cell_type": "code",
   "execution_count": null,
   "metadata": {},
   "outputs": [],
   "source": [
    "# Generate the Plot\n",
    "fig, ax = plt.subplots()\n",
    "\n",
    "x_axis = mean_response_per_drug.index\n",
    "capomulin_handle = ax.errorbar(x_axis, mean_response_per_drug[\"Capomulin\"], sem_response_per_drug[\"Capomulin\"], marker=\"s\", color=\"blue\", linewidth=0.5)\n",
    "infubinol_handle = ax.errorbar(x_axis, mean_response_per_drug[\"Infubinol\"], sem_response_per_drug[\"Infubinol\"], marker=\"^\", color=\"tomato\",linewidth=0.5)\n",
    "ketapril_handle = ax.errorbar(x_axis, mean_response_per_drug[\"Ketapril\"], sem_response_per_drug[\"Ketapril\"], marker=\"v\", color=\"indigo\",linewidth=0.5)\n",
    "placebo_handle = ax.errorbar(x_axis, mean_response_per_drug[\"Placebo\"], sem_response_per_drug[\"Placebo\"], marker=\"8\", color=\"forestgreen\",linewidth=0.5)\n",
    "\n",
    "\n",
    "# set xlim \n",
    "plt.xlim(-2, max(x_axis)+3)\n",
    "\n",
    "# Add labels, grid, legend \n",
    "plt.title(\"Tumor Response to Treatment\")\n",
    "plt.ylabel(\"Tumor Volume (mm3)\")\n",
    "plt.xlabel(\"Time (Days)\")\n",
    "plt.legend(loc=\"best\", fontsize=\"small\", fancybox=True)\n",
    "plt.grid()\n",
    "\n",
    "# Save figure \n",
    "\n",
    "plt.gcf()\n",
    "plt.savefig(\"Images/tumor_response.png\")\n",
    "\n",
    "\n",
    "# Show the Figure\n",
    "plt.show()"
   ]
  },
  {
   "cell_type": "code",
   "execution_count": null,
   "metadata": {},
   "outputs": [],
   "source": [
    "# Store the Mean Met. Site Data Grouped by Drug and Timepoint \n",
    "metastatic_response = combined_df.groupby([\"Drug\", \"Timepoint\"])[\"Metastatic Sites\"].mean()\n",
    "\n",
    "# Convert to DataFrame\n",
    "metastatic_df = pd.DataFrame(metastatic_response)\n",
    "\n",
    "# Preview DataFrame\n",
    "metastatic_df.head()"
   ]
  },
  {
   "cell_type": "code",
   "execution_count": null,
   "metadata": {},
   "outputs": [],
   "source": [
    "# Store the Standard Error associated with Met. Sites Grouped by Drug and Timepoint \n",
    "sem_metastatic_response = combined_df.groupby([\"Drug\", \"Timepoint\"])[\"Metastatic Sites\"].sem()\n",
    "\n",
    "# Convert to DataFrame\n",
    "metastatic_sem_df = pd.DataFrame(sem_metastatic_response)\n",
    "\n",
    "# Preview DataFrame\n",
    "metastatic_sem_df.head()"
   ]
  },
  {
   "cell_type": "code",
   "execution_count": null,
   "metadata": {},
   "outputs": [],
   "source": [
    "# Minor Data Munging to Re-Format the Data Frames\n",
    "reorganize_metastatic_df = pd.pivot_table(metastatic_df, index=['Timepoint'], columns=['Drug'])\n",
    "metastatic_mean_df = pd.DataFrame(reorganize_metastatic_df['Metastatic Sites'])\n",
    "\n",
    "# Preview that Reformatting worked\n",
    "metastatic_mean_df"
   ]
  },
  {
   "cell_type": "code",
   "execution_count": null,
   "metadata": {},
   "outputs": [],
   "source": [
    "# re-format SEM DataFrame of metastatic tumor response \n",
    "reorganize_sem_metastatic_df = pd.pivot_table(metastatic_sem_df, index=['Timepoint'], columns=['Drug'])\n",
    "\n",
    "metastatic_sem = pd.DataFrame(reorganize_sem_metastatic_df['Metastatic Sites'])\n",
    "metastatic_sem"
   ]
  },
  {
   "cell_type": "code",
   "execution_count": null,
   "metadata": {},
   "outputs": [],
   "source": [
    "# Generate the Plot\n",
    "fig, ax = plt.subplots()\n",
    "\n",
    "x_axis = metastatic_mean_df.index\n",
    "capomulin_handle = ax.errorbar(x_axis, metastatic_mean_df[\"Capomulin\"], metastatic_sem[\"Capomulin\"], marker=\"s\", color=\"blue\", linewidth=0.5)\n",
    "infubinol_handle = ax.errorbar(x_axis, metastatic_mean_df[\"Infubinol\"], metastatic_sem[\"Infubinol\"], marker=\"^\", color=\"tomato\",linewidth=0.5)\n",
    "ketapril_handle = ax.errorbar(x_axis, metastatic_mean_df[\"Ketapril\"], metastatic_sem[\"Ketapril\"], marker=\"v\", color=\"indigo\",linewidth=0.5)\n",
    "placebo_handle = ax.errorbar(x_axis, metastatic_mean_df[\"Placebo\"], metastatic_sem[\"Placebo\"], marker=\"8\", color=\"forestgreen\",linewidth=0.5)\n",
    "\n",
    "\n",
    "# set xlim \n",
    "plt.xlim(-2, max(x_axis)+3)\n",
    "\n",
    "# Add labels, grid, legend \n",
    "plt.title(\"Metastatic Spread During Treatment\")\n",
    "plt.ylabel(\"Met. Sites\")\n",
    "plt.xlabel(\"Treatment Duration (Days)\")\n",
    "plt.legend(loc=\"best\", fontsize=\"small\", fancybox=True)\n",
    "plt.grid()\n",
    "\n",
    "# Save figure \n",
    "plt.gcf()\n",
    "plt.savefig(\"Images/metastatic_spread.png\")\n",
    "\n",
    "# Show figure \n",
    "plt.show()"
   ]
  },
  {
   "cell_type": "code",
   "execution_count": null,
   "metadata": {},
   "outputs": [],
   "source": [
    "# Store the Count of Mice Grouped by Drug and Timepoint (W can pass any metric)\n",
    "mouse_count = combined_df.groupby([\"Drug\", \"Timepoint\"])['Mouse ID'].count()\n",
    "\n",
    "# Convert to DataFrame\n",
    "mouse_count_df = pd.DataFrame(mouse_count)\n",
    "\n",
    "# Preview DataFrame\n",
    "mouse_count_df.head()"
   ]
  },
  {
   "cell_type": "code",
   "execution_count": null,
   "metadata": {},
   "outputs": [],
   "source": [
    "# Minor Data Munging to Re-Format the Data Frames\n",
    "combined_mouse_df = pd.pivot_table(mouse_count_df, index=['Timepoint'], columns=['Drug'])\n",
    "mouse_counts_per_drug = pd.DataFrame(combined_mouse_df['Mouse ID'])\n",
    "\n",
    "# Preview the Data Frame\n",
    "mouse_counts_per_drug.head()"
   ]
  },
  {
   "cell_type": "code",
   "execution_count": null,
   "metadata": {},
   "outputs": [],
   "source": [
    "# create individual DataFrames for the mouse survival rate of the four selected drugs \n",
    "capomulin_survival = pd.DataFrame(mouse_counts_per_drug.iloc[:,0])\n",
    "infubinol_survival = pd.DataFrame(mouse_counts_per_drug.iloc[:,2])\n",
    "ketapril_survival = pd.DataFrame(mouse_counts_per_drug.iloc[:,3]) \n",
    "placebo_survival = pd.DataFrame(mouse_counts_per_drug.iloc[:,5])\n",
    "\n",
    "# merge DataFrames for the metastatic mean of the four selected drugs \n",
    "combined_survival_rate = pd.merge(capomulin_survival, infubinol_survival, how=\"outer\",on=\"Timepoint\")\n",
    "combined_survival_rate = pd.merge(combined_survival_rate, ketapril_survival, how=\"outer\",on=\"Timepoint\")\n",
    "combined_survival_rate = pd.merge(combined_survival_rate, placebo_survival, how=\"outer\", on=\"Timepoint\")\n",
    "\n",
    "# preview merged DataFrame \n",
    "combined_survival_rate"
   ]
  },
  {
   "cell_type": "code",
   "execution_count": null,
   "metadata": {},
   "outputs": [],
   "source": [
    "# create variable for array of values \n",
    "values = combined_survival_rate.values\n",
    "\n",
    "# create for loop to calculate % survival across 45 days since day 0 \n",
    "for i in values: \n",
    "    percentage = (values / values[0])*100\n",
    "\n",
    "\n",
    "# create new dataframe     \n",
    "mouse_percentage = pd.DataFrame(percentage)    \n",
    "\n",
    "# rename ranges to corresponding Timepoints and Drug Treatment\n",
    "renamed_df = mouse_percentage.rename({0: 0, \n",
    "                                      1: 5, \n",
    "                                      2: 10,\n",
    "                                      3: 15, \n",
    "                                      4: 20, \n",
    "                                      5: 25, \n",
    "                                      6: 30, \n",
    "                                      7: 35, \n",
    "                                      8: 40, \n",
    "                                      9: 45}, \n",
    "                                     columns= {\n",
    "                                        0: \"Capomulin\", \n",
    "                                        1: \"Infubinol\", \n",
    "                                        2: \"Ketapril\",\n",
    "                                        3: \"Placebo\"})\n",
    "\n",
    "renamed_df.index.names = ['Timepoint']\n",
    "\n",
    "# preview renamed DataFrame\n",
    "renamed_df"
   ]
  },
  {
   "cell_type": "code",
   "execution_count": null,
   "metadata": {},
   "outputs": [],
   "source": [
    "# Generate the Plot \n",
    "fig, ax = plt.subplots()\n",
    "\n",
    "x_axis = renamed_df.index\n",
    "capomulin_handle = ax.plot(x_axis, renamed_df[\"Capomulin\"], marker=\"s\", color=\"blue\", linewidth=0.5)\n",
    "infubinol_handle = ax.plot(x_axis, renamed_df[\"Infubinol\"], marker=\"^\", color=\"tomato\",linewidth=0.5)\n",
    "ketapril_handle = ax.plot(x_axis, renamed_df[\"Ketapril\"], marker=\"v\", color=\"indigo\",linewidth=0.5)\n",
    "placebo_handle = ax.plot(x_axis, renamed_df[\"Placebo\"], marker=\"8\", color=\"forestgreen\",linewidth=0.5)\n",
    "\n",
    "\n",
    "# set xlim, ylim\n",
    "plt.xlim(-2, max(x_axis)+3)\n",
    "plt.ylim(min(renamed_df[\"Infubinol\"].values)-4, max(renamed_df[\"Capomulin\"].values)+4)\n",
    "\n",
    "# Add labels, grid, legend \n",
    "plt.title(\"Survival During Treatment\")\n",
    "plt.ylabel(\"Survival Rate (%)\")\n",
    "plt.xlabel(\"Treatment Duration (Days)\")\n",
    "plt.grid()\n",
    "plt.legend(loc=\"best\", fontsize=\"small\", fancybox=True)\n",
    "\n",
    "\n",
    "# Save figure \n",
    "plt.gcf()\n",
    "plt.savefig(\"Images/survival_rates-1.png\")\n",
    "\n",
    "# Show figure \n",
    "plt.show()"
   ]
  },
  {
   "cell_type": "code",
   "execution_count": null,
   "metadata": {},
   "outputs": [],
   "source": [
    "# check previous DataFrame displaying tumor mean response for each drug \n",
    "mean_response_per_drug"
   ]
  },
  {
   "cell_type": "code",
   "execution_count": null,
   "metadata": {},
   "outputs": [],
   "source": [
    "# Calculate the percent changes for each drug\n",
    "percent_change = ((mean_response_per_drug.iloc[-1,:] - mean_response_per_drug.iloc[0,:])/ \n",
    "                  mean_response_per_drug.iloc[0,:]) *100 \n",
    "\n",
    "# Display the data to confirm\n",
    "percent_change"
   ]
  },
  {
   "cell_type": "code",
   "execution_count": null,
   "metadata": {},
   "outputs": [],
   "source": [
    "# Store all Relevant Percent Changes into a Tuple\n",
    "drugs_pc = [('Capomulin', -19.45303), ('Infubinol', 46.123472), ('Ketapril', 57.028795), ('Placebo', 51.297960)]\n",
    "\n",
    "# Orient widths. Add labels, tick marks, etc. \n",
    "bar = plt.bar(range(len(drugs_pc)), [val[1] for val in drugs_pc], align='center', color='g')\n",
    "plt.xticks(range(len(drugs_pc)), [val[0] for val in drugs_pc])\n",
    "plt.title(\"Tumor Change Over 45 Day Treatment\")\n",
    "plt.ylabel(\"% Tumor Volume Change\")\n",
    "plt.grid()\n",
    "\n",
    "# Save figure \n",
    "plt.gcf()\n",
    "plt.savefig(\"Images/tumor_volume.png\")\n",
    "\n",
    "# Show figure \n",
    "plt.show()"
   ]
  },
  {
   "cell_type": "code",
   "execution_count": null,
   "metadata": {},
   "outputs": [],
   "source": []
  }
 ]
}